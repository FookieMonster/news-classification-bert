{
 "cells": [
  {
   "cell_type": "code",
   "execution_count": null,
   "metadata": {},
   "outputs": [],
   "source": [
    "# BERTリポジトリのダウンロード\n",
    "!test -d bert_repo || git clone https://github.com/google-research/bert bert_repo"
   ]
  },
  {
   "cell_type": "code",
   "execution_count": null,
   "metadata": {},
   "outputs": [],
   "source": [
    "# BERT学習済みチェックポイントのダウンロード\n",
    "!wget https://storage.googleapis.com/bert_models/2018_11_23/multi_cased_L-12_H-768_A-12.zip -P bert_checkpoint\n",
    "!unzip ./bert_checkpoint/multi_cased_L-12_H-768_A-12.zip -d bert_checkpoint"
   ]
  },
  {
   "cell_type": "code",
   "execution_count": null,
   "metadata": {},
   "outputs": [],
   "source": [
    "# ライブドアニュースコーパスのダウンロード\n",
    "!wget http://www.rondhuit.com/download/ldcc-20140209.tar.gz && tar xvfz ldcc-20140209.tar.gz\n",
    "!mv text news_data"
   ]
  },
  {
   "cell_type": "code",
   "execution_count": null,
   "metadata": {},
   "outputs": [],
   "source": [
    "# ニューステキストからデータセットを作成\n",
    "import pandas as pd\n",
    "from pathlib import Path\n",
    "from sklearn.model_selection import train_test_split\n",
    "\n",
    "news_dir   = 'news_data/'\n",
    "train_file = news_dir + 'train.tsv'\n",
    "dev_file   = news_dir + 'dev.tsv'\n",
    "test_file  = news_dir + 'test.tsv'\n",
    "df = pd.DataFrame([], columns=['text', 'label'])\n",
    "dirs = ['dokujo-tsushin', 'it-life-hack', 'kaden-channel', 'livedoor-homme', 'movie-enter', 'peachy', 'smax', 'sports-watch', 'topic-news']\n",
    " \n",
    "for index, dir in enumerate(dirs):\n",
    "    files = Path(news_dir+dir).glob('*.txt')\n",
    "    for file in files:\n",
    "        text = open(str(file), \"r\")\n",
    "        lines = text.readlines()\n",
    "        df = df.append(pd.Series([str(lines[2]), index], index=df.columns), ignore_index=True)\n",
    "        text.close()\n",
    " \n",
    "train, test = train_test_split(df, test_size=0.2, shuffle=True, stratify=df.label)\n",
    "df = pd.DataFrame(train)\n",
    "train, dev = train_test_split(df, test_size=0.2, shuffle=True, stratify=df.label)\n",
    " \n",
    "train.to_csv(train_file, sep='\\t', index=False, header=True)\n",
    "dev.to_csv(dev_file, sep='\\t', index=False, header=True)\n",
    "test.to_csv(test_file, sep='\\t', index=False, header=True)"
   ]
  },
  {
   "cell_type": "code",
   "execution_count": null,
   "metadata": {},
   "outputs": [],
   "source": []
  }
 ],
 "metadata": {
  "kernelspec": {
   "display_name": "Python 3",
   "language": "python",
   "name": "python3"
  },
  "language_info": {
   "codemirror_mode": {
    "name": "ipython",
    "version": 3
   },
   "file_extension": ".py",
   "mimetype": "text/x-python",
   "name": "python",
   "nbconvert_exporter": "python",
   "pygments_lexer": "ipython3",
   "version": "3.5.3"
  }
 },
 "nbformat": 4,
 "nbformat_minor": 4
}
