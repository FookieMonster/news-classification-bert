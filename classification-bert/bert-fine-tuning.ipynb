{
 "cells": [
  {
   "cell_type": "code",
   "execution_count": null,
   "metadata": {},
   "outputs": [],
   "source": [
    "# BERTリポジトリのダウンロード\n",
    "!test -d bert_repo || git clone https://github.com/google-research/bert bert_repo"
   ]
  },
  {
   "cell_type": "code",
   "execution_count": null,
   "metadata": {},
   "outputs": [],
   "source": [
    "# BERT学習済みチェックポイントのダウンロード\n",
    "!wget https://storage.googleapis.com/bert_models/2018_11_23/multi_cased_L-12_H-768_A-12.zip -P bert_checkpoint\n",
    "!unzip ./bert_checkpoint/multi_cased_L-12_H-768_A-12.zip -d bert_checkpoint"
   ]
  },
  {
   "cell_type": "code",
   "execution_count": null,
   "metadata": {},
   "outputs": [],
   "source": [
    "# ライブドアニュースコーパスのダウンロード\n",
    "!wget http://www.rondhuit.com/download/ldcc-20140209.tar.gz && tar xvfz ldcc-20140209.tar.gz\n",
    "!mv text news_data"
   ]
  },
  {
   "cell_type": "code",
   "execution_count": null,
   "metadata": {},
   "outputs": [],
   "source": [
    "# ニューステキストからデータセットを作成\n",
    "import pandas as pd\n",
    "from pathlib import Path\n",
    "from sklearn.model_selection import train_test_split\n",
    "\n",
    "news_dir   = 'news_data/'\n",
    "train_file = news_dir + 'train.tsv'\n",
    "dev_file   = news_dir + 'dev.tsv'\n",
    "test_file  = news_dir + 'test.tsv'\n",
    "df = pd.DataFrame([], columns=['text', 'label'])\n",
    "dirs = ['dokujo-tsushin', 'it-life-hack', 'kaden-channel', 'livedoor-homme', 'movie-enter', 'peachy', 'smax', 'sports-watch', 'topic-news']\n",
    "\n",
    "for index, dir in enumerate(dirs):\n",
    "    files = Path(news_dir+dir).glob('*.txt')\n",
    "    for file in files:\n",
    "        text = open(str(file), \"r\")\n",
    "        lines = text.readlines()\n",
    "        df = df.append(pd.Series([str(lines[2]), index], index=df.columns), ignore_index=True)\n",
    "        text.close()\n",
    " \n",
    "train, test = train_test_split(df, test_size=0.2, shuffle=True, stratify=df.label)\n",
    "df = pd.DataFrame(train)\n",
    "train, dev = train_test_split(df, test_size=0.2, shuffle=True, stratify=df.label)\n",
    " \n",
    "train.to_csv(train_file, sep='\\t', index=False, header=True)\n",
    "dev.to_csv(dev_file, sep='\\t', index=False, header=True)\n",
    "test.to_csv(test_file, sep='\\t', index=False, header=True)"
   ]
  },
  {
   "cell_type": "code",
   "execution_count": null,
   "metadata": {},
   "outputs": [],
   "source": [
    "# 再学習（ファインチューニング）\n",
    "TASK = 'Jp'\n",
    "BERT_BASE_DIR = 'bert_checkpoint/multi_cased_L-12_H-768_A-12'\n",
    "DATASET_DIR = 'news_data'\n",
    "OUTPUT_DIR = 'output_news'\n",
    "\n",
    "!python3 ./bert_repo/run_classifier.py \\\n",
    "  --task_name=$TASK \\\n",
    "  --do_train=true \\\n",
    "  --do_eval=true \\\n",
    "  --do_lower_case=False \\\n",
    "  --data_dir=$DATASET_DIR \\\n",
    "  --vocab_file=$BERT_BASE_DIR/vocab.txt \\\n",
    "  --bert_config_file=$BERT_BASE_DIR/bert_config.json \\\n",
    "  --init_checkpoint=$BERT_BASE_DIR/bert_model.ckpt \\\n",
    "  --max_seq_length=128 \\\n",
    "  --train_batch_size=32 \\\n",
    "  --learning_rate=2e-5 \\\n",
    "  --num_train_epochs=3.0 \\\n",
    "  --output_dir=$OUTPUT_DIR"
   ]
  },
  {
   "cell_type": "code",
   "execution_count": null,
   "metadata": {},
   "outputs": [],
   "source": [
    "# 予測（テスト）\n",
    "TASK = 'Jp'\n",
    "BERT_BASE_DIR = 'bert_checkpoint/multi_cased_L-12_H-768_A-12'\n",
    "GLUE_DIR = 'news_data'\n",
    "OUTPUT_DIR = 'output_news'\n",
    "TRAINED_CLASSIFIER = 'output_news'\n",
    "\n",
    "!python3 ./bert_repo/run_classifier.py \\\n",
    "  --task_name=$TASK \\\n",
    "  --do_predict=true \\\n",
    "  --do_lower_case=False \\\n",
    "  --data_dir=$GLUE_DIR \\\n",
    "  --vocab_file=$BERT_BASE_DIR/vocab.txt \\\n",
    "  --bert_config_file=$BERT_BASE_DIR/bert_config.json \\\n",
    "  --init_checkpoint=$TRAINED_CLASSIFIER \\\n",
    "  --max_seq_length=128 \\\n",
    "  --output_dir=$OUTPUT_DIR"
   ]
  },
  {
   "cell_type": "code",
   "execution_count": null,
   "metadata": {},
   "outputs": [],
   "source": [
    "# SavedModel形式でモデルをエクスポート\n",
    "TASK = 'Jp'\n",
    "BERT_BASE_DIR = 'bert_checkpoint/multi_cased_L-12_H-768_A-12'\n",
    "GLUE_DIR = 'news_data'\n",
    "OUTPUT_DIR = 'output_news'\n",
    "TRAINED_CLASSIFIER = 'output_news'\n",
    "\n",
    "!python3 ./bert_repo/run_classifier.py \\\n",
    "  --task_name=$TASK \\\n",
    "  --do_export=true \\\n",
    "  --do_lower_case=False \\\n",
    "  --data_dir=$GLUE_DIR \\\n",
    "  --vocab_file=$BERT_BASE_DIR/vocab.txt \\\n",
    "  --bert_config_file=$BERT_BASE_DIR/bert_config.json \\\n",
    "  --init_checkpoint=$TRAINED_CLASSIFIER \\\n",
    "  --max_seq_length=128 \\\n",
    "  --output_dir=$OUTPUT_DIR"
   ]
  },
  {
   "cell_type": "code",
   "execution_count": null,
   "metadata": {},
   "outputs": [],
   "source": [
    "# エクスポートしたモデルを確認\n",
    "LATEST_MODEL_DIR=!(ls ./saved_model | tail -1)\n",
    "LATEST_MODEL_DIR=LATEST_MODEL_DIR[0]\n",
    "!echo $LATEST_MODEL_DIR\n",
    "!saved_model_cli show --all --dir saved_model/$LATEST_MODEL_DIR"
   ]
  },
  {
   "cell_type": "code",
   "execution_count": null,
   "metadata": {},
   "outputs": [],
   "source": []
  }
 ],
 "metadata": {
  "kernelspec": {
   "display_name": "Python 3",
   "language": "python",
   "name": "python3"
  },
  "language_info": {
   "codemirror_mode": {
    "name": "ipython",
    "version": 3
   },
   "file_extension": ".py",
   "mimetype": "text/x-python",
   "name": "python",
   "nbconvert_exporter": "python",
   "pygments_lexer": "ipython3",
   "version": "3.5.3"
  }
 },
 "nbformat": 4,
 "nbformat_minor": 4
}
