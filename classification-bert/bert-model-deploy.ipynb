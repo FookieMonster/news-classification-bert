{
 "cells": [
  {
   "cell_type": "code",
   "execution_count": 1,
   "metadata": {},
   "outputs": [],
   "source": [
    "BUCKET_NAME=\"news-classification-2020-mlengine\"\n",
    "REGION=\"us-central1\"\n",
    "\n",
    "MODEL_DIR=\"gs://news-classification-2020-mlengine/\"\n",
    "MODEL_NAME=\"news_classification\"\n",
    "VERSION_NAME=\"v1\"\n",
    "FRAMEWORK=\"TENSORFLOW\"\n",
    "MACHINE_TYPE=\"n1-standard-2\"\n",
    "\n",
    "SAVED_MODEL_DIR=\"saved_model\"\n",
    "LATEST_MODEL_DIR=!(ls ./$SAVED_MODEL_DIR | tail -1)\n",
    "LATEST_MODEL_DIR=LATEST_MODEL_DIR[0]"
   ]
  },
  {
   "cell_type": "code",
   "execution_count": null,
   "metadata": {},
   "outputs": [],
   "source": [
    "# エクスポートしたモデルを確認\n",
    "!saved_model_cli show --all --dir $SAVED_MODEL_DIR/$LATEST_MODEL_DIR"
   ]
  },
  {
   "cell_type": "code",
   "execution_count": null,
   "metadata": {},
   "outputs": [],
   "source": [
    "# Cloud Storage バケットの作成\n",
    "!gsutil mb -l $REGION gs://$BUCKET_NAME"
   ]
  },
  {
   "cell_type": "code",
   "execution_count": null,
   "metadata": {},
   "outputs": [],
   "source": [
    "# エクスポートしたモデルを Cloud Storage にアップロードする\n",
    "!gsutil cp -r \"$SAVED_MODEL_DIR/$LATEST_MODEL_DIR/*\" gs://$BUCKET_NAME"
   ]
  },
  {
   "cell_type": "code",
   "execution_count": null,
   "metadata": {},
   "outputs": [],
   "source": [
    "# ローカル予測でモデルをテストする（JSON）\n",
    "!gcloud ai-platform local predict --model-dir gs://$BUCKET_NAME \\\n",
    "  --json-instances input.json \\\n",
    "  --framework tensorflow \\\n",
    "  --signature-name serving_default"
   ]
  },
  {
   "cell_type": "code",
   "execution_count": null,
   "metadata": {},
   "outputs": [],
   "source": [
    "# models create\n",
    "!gcloud ai-platform models create $MODEL_NAME"
   ]
  },
  {
   "cell_type": "code",
   "execution_count": null,
   "metadata": {},
   "outputs": [],
   "source": [
    "# versions create（注意ベータ版を使うこと！）\n",
    "!gcloud beta ai-platform versions create $VERSION_NAME \\\n",
    "  --model $MODEL_NAME \\\n",
    "  --origin $MODEL_DIR \\\n",
    "  --runtime-version=1.14 \\\n",
    "  --framework $FRAMEWORK \\\n",
    "  --python-version=3.5 \\\n",
    "  --machine-type $MACHINE_TYPE"
   ]
  },
  {
   "cell_type": "code",
   "execution_count": null,
   "metadata": {},
   "outputs": [],
   "source": [
    "# 新しいバージョンに関する情報を取得\n",
    "!gcloud ai-platform versions describe $VERSION_NAME \\\n",
    "  --model $MODEL_NAME"
   ]
  },
  {
   "cell_type": "code",
   "execution_count": 2,
   "metadata": {},
   "outputs": [
    {
     "name": "stdout",
     "output_type": "stream",
     "text": [
      "[[0.00688816654, 0.335943282, 0.0355736651, 0.0707206801, 0.276265204, 0.112958521, 0.0690839365, 0.0407407098, 0.0518258326]]\n"
     ]
    }
   ],
   "source": [
    "# 予測のリクエスト\n",
    "!gcloud ai-platform predict \\\n",
    "  --model $MODEL_NAME \\\n",
    "  --version $VERSION_NAME \\\n",
    "  --json-instances input.json"
   ]
  },
  {
   "cell_type": "code",
   "execution_count": null,
   "metadata": {},
   "outputs": [],
   "source": []
  }
 ],
 "metadata": {
  "kernelspec": {
   "display_name": "Python 3",
   "language": "python",
   "name": "python3"
  },
  "language_info": {
   "codemirror_mode": {
    "name": "ipython",
    "version": 3
   },
   "file_extension": ".py",
   "mimetype": "text/x-python",
   "name": "python",
   "nbconvert_exporter": "python",
   "pygments_lexer": "ipython3",
   "version": "3.5.3"
  }
 },
 "nbformat": 4,
 "nbformat_minor": 4
}
