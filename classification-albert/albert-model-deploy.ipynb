{
 "cells": [
  {
   "cell_type": "code",
   "execution_count": null,
   "metadata": {},
   "outputs": [],
   "source": [
    "# [YOUR_PROJECT_ID]を自分のGCPプロジェクトIDに置換してください。\n",
    "PROJECT_ID=\"[YOUR_PROJECT_ID]\"\n",
    "\n",
    "BUCKET_NAME=\"{0}-mlengine\".format(PROJECT_ID)\n",
    "REGION=\"us-central1\"\n",
    "\n",
    "SAVED_MODEL_DIR=\"saved_model\"\n",
    "LATEST_MODEL_DIR=!(ls ./$SAVED_MODEL_DIR | tail -1)\n",
    "LATEST_MODEL_DIR=LATEST_MODEL_DIR[0]\n",
    "\n",
    "MODEL_DIR=\"gs://\" + BUCKET_NAME + \"/\" + LATEST_MODEL_DIR\n",
    "MODEL_NAME=\"news_classification\"\n",
    "VERSION_NAME=\"v2\"\n",
    "FRAMEWORK=\"TENSORFLOW\"\n",
    "MACHINE_TYPE=\"mls1-c1-m2\""
   ]
  },
  {
   "cell_type": "code",
   "execution_count": null,
   "metadata": {},
   "outputs": [],
   "source": [
    "# エクスポートしたモデルを確認\n",
    "! saved_model_cli show --all --dir $SAVED_MODEL_DIR/$LATEST_MODEL_DIR"
   ]
  },
  {
   "cell_type": "code",
   "execution_count": null,
   "metadata": {},
   "outputs": [],
   "source": [
    "# Cloud Storage バケットの作成\n",
    "! gsutil mb -l $REGION gs://$BUCKET_NAME"
   ]
  },
  {
   "cell_type": "code",
   "execution_count": null,
   "metadata": {},
   "outputs": [],
   "source": [
    "# エクスポートしたモデルを Cloud Storage にアップロードする\n",
    "! gsutil cp -r \"$SAVED_MODEL_DIR/$LATEST_MODEL_DIR\" $MODEL_DIR"
   ]
  },
  {
   "cell_type": "code",
   "execution_count": null,
   "metadata": {},
   "outputs": [],
   "source": [
    "# ローカル予測でモデルをテストする（JSON）\n",
    "! gcloud ai-platform local predict --model-dir $MODEL_DIR \\\n",
    "  --json-instances input.json \\\n",
    "  --framework tensorflow"
   ]
  },
  {
   "cell_type": "code",
   "execution_count": null,
   "metadata": {},
   "outputs": [],
   "source": [
    "# モデルの作成\n",
    "! gcloud ai-platform models create $MODEL_NAME"
   ]
  },
  {
   "cell_type": "code",
   "execution_count": null,
   "metadata": {},
   "outputs": [],
   "source": [
    "# モデルのバージョンを作成\n",
    "! gcloud beta ai-platform versions create $VERSION_NAME \\\n",
    "  --model $MODEL_NAME \\\n",
    "  --origin $MODEL_DIR \\\n",
    "  --runtime-version=1.14 \\\n",
    "  --framework $FRAMEWORK \\\n",
    "  --python-version=3.5 \\\n",
    "  --machine-type $MACHINE_TYPE"
   ]
  },
  {
   "cell_type": "code",
   "execution_count": null,
   "metadata": {},
   "outputs": [],
   "source": [
    "# 新しいバージョンに関する情報を取得\n",
    "! gcloud ai-platform versions describe $VERSION_NAME \\\n",
    "  --model $MODEL_NAME"
   ]
  },
  {
   "cell_type": "code",
   "execution_count": null,
   "metadata": {},
   "outputs": [],
   "source": [
    "# 予測のリクエストのテスト\n",
    "! gcloud ai-platform predict \\\n",
    "  --model $MODEL_NAME \\\n",
    "  --version $VERSION_NAME \\\n",
    "  --json-instances input.json"
   ]
  }
 ],
 "metadata": {
  "kernelspec": {
   "display_name": "Python 3",
   "language": "python",
   "name": "python3"
  },
  "language_info": {
   "codemirror_mode": {
    "name": "ipython",
    "version": 3
   },
   "file_extension": ".py",
   "mimetype": "text/x-python",
   "name": "python",
   "nbconvert_exporter": "python",
   "pygments_lexer": "ipython3",
   "version": "3.5.3"
  }
 },
 "nbformat": 4,
 "nbformat_minor": 4
}
